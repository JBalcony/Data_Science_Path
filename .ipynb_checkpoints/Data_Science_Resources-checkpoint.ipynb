{
 "cells": [
  {
   "cell_type": "markdown",
   "metadata": {},
   "source": [
    "<h1 align=\"center\">Data Science Resources</h1>\n",
    "\n",
    "by [Jan Tarasiewicz](https://github.com/JBalcony)"
   ]
  },
  {
   "cell_type": "markdown",
   "metadata": {},
   "source": [
    "## Table of contents\n",
    "\n",
    "1. [Mathematics](#Mathematics)\n",
    "2. [Programming](#Python)\n",
    "3. [Machine Learning](#Machine-Learning)\n",
    "4. [Books](#Books)\n",
    "5. [Various Resources](#Various-Resources)\n"
   ]
  },
  {
   "cell_type": "markdown",
   "metadata": {},
   "source": [
    "## DataWorkshop Courses\n",
    "\n",
    "1. __Praktyczne uczenie maszynowe od podstaw__ [DataWorkshop](https://dataworkshop.eu/pl/practical-machine-learning)\n",
    "\n",
    "2. YouTube [Linear Algebra](https://www.youtube.com/watch?v=fNk_zzaMoSs&list=PLZHQObOWTQDPD3MizzM2xVFitgF8hE_ab) \n",
    "\n",
    "3. YouTube [Calculus](https://www.youtube.com/watch?v=WUvTyaaNkzM&list=PLZHQObOWTQDMsr9K-rj53DwVRMYO3t5Yr) \n"
   ]
  },
  {
   "cell_type": "markdown",
   "metadata": {},
   "source": [
    "## Mathematics\n",
    "\n",
    "1. __MiT__ [Mathematics for Computer Science](https://ocw.mit.edu/courses/electrical-engineering-and-computer-science/6-042j-mathematics-for-computer-science-spring-2015/)\n",
    "\n",
    "2. YouTube [Linear Algebra](https://www.youtube.com/watch?v=fNk_zzaMoSs&list=PLZHQObOWTQDPD3MizzM2xVFitgF8hE_ab) \n",
    "\n",
    "3. YouTube [Calculus](https://www.youtube.com/watch?v=WUvTyaaNkzM&list=PLZHQObOWTQDMsr9K-rj53DwVRMYO3t5Yr) \n",
    "\n",
    "4. __MiT Course__ [Probability Theory](https://ocw.mit.edu/courses/electrical-engineering-and-computer-science/6-041sc-probabilistic-systems-analysis-and-applied-probability-fall-2013/)\n",
    "\n",
    "5. MiT Course [Linear Algebra](https://ocw.mit.edu/courses/mathematics/18-06sc-linear-algebra-fall-2011/ )\n",
    "\n",
    "6. YouTube [Calculus I-III](https://www.youtube.com/user/amarchese22/playlists?disable_polymer=1)\n",
    "\n",
    "7. YouTube [Multivariable Calculus](https://www.youtube.com/playlist?list=PLSQl0a2vh4HC5feHa6Rc5c0wbRTx56nF7)\n",
    "\n",
    "8. MiT Course [Matrix Methods](https://ocw.mit.edu/courses/mathematics/18-065-matrix-methods-in-data-analysis-signal-processing-and-machine-learning-spring-2018/)\n",
    "\n",
    "9. __Udemy Jose Portilla__ [Probability and Statistics for Business and Data Science](https://www.udemy.com/course/probability-and-statistics-for-business-and-data-science/)"
   ]
  },
  {
   "cell_type": "markdown",
   "metadata": {},
   "source": [
    "## Programming\n",
    "\n",
    "#### Fundamentals\n",
    "    \n",
    "1. University of Toronto [Learn to Program: The Fundamentals](https://www.coursera.org/learn/learn-to-program)\n",
    "2. University of Toronto [Learn to Program: Crafting Quality Code](https://www.coursera.org/learn/program-code)\n",
    "3. MiT [Introduction to Computer Science and Programming Using Python](https://www.edx.org/course/introduction-to-computer-science-and-programming-7)\n",
    "\n",
    "\n",
    "#### Python\n",
    "    \n",
    "1. __Jose Portilla__ [Complete Python Bootcamp](https://www.udemy.com/course/complete-python-bootcamp/)\n",
    "2. __Jose Portilla__ [Python for DS and ML](https://www.udemy.com/course/python-for-data-science-and-machine-learning-bootcamp/)\n",
    "3. __Jose Portilla__ [Python for Data Analysis and Visualization](https://www.udemy.com/course/learning-python-for-data-analysis-and-visualization/)\n",
    "4. Udemy [Python A-Z](https://www.udemy.com/course/python-coding/)\n",
    "5. Udemy [Data analysis with Pandas and Python](https://www.udemy.com/course/data-analysis-with-pandas/)\n",
    "\n",
    "\n",
    "#### SQL\n",
    "    \n",
    "1. __Jose Portilla__ [Complete SQL Bootcamp](https://www.udemy.com/course/the-complete-sql-bootcamp/)\n",
    "2. Datacamp [Introduction to SQL](https://www.datacamp.com/courses/introduction-to-sql)\n",
    "\n",
    "\n",
    "#### R\n",
    "    \n",
    "1. Udemy [R Programming A-Z](https://www.udemy.com/course/r-programming/)\n",
    "2. __Jose Portilla__ [Data Science and Machine Learning Bootcamp with R](https://www.udemy.com/course/data-science-and-machine-learning-bootcamp-with-r/)\n",
    "\n",
    "\n",
    "#### Tableau + BI\n",
    "    \n",
    "1. Udemy [Tableau 2020 A-Z](https://www.udemy.com/course/tableau10/)\n",
    "2. Udemy [Power BI A-Z](https://www.udemy.com/course/mspowerbi/)\n",
    "\n",
    "\n",
    "#### Git/Github\n",
    "    \n",
    "1. [Github.io](https://try.github.io/)\n",
    "2. [Atlassian](https://www.atlassian.com/git/tutorials)\n",
    "3. [YouTube](https://www.youtube.com/playlist?list=PL4cUxeGkcC9goXbgTDQ0n_4TBzOO0ocPR)\n",
    "\n",
    "\n",
    "#### Linux / Bash\n",
    "    \n",
    "1. [BashGuide](http://mywiki.wooledge.org/BashGuide)\n",
    "2. [Udemy](https://www.udemy.com/course/linux-shell-scripting-projects/)\n",
    "\n",
    "\n",
    "\n",
    "  "
   ]
  },
  {
   "cell_type": "markdown",
   "metadata": {},
   "source": [
    "## Machine Learning\n",
    "\n",
    "Courses, specializations and certificates\n",
    "\n",
    "1. __Stanford Andrew Ng__ [Machine Learning](https://www.coursera.org/learn/machine-learning) / must have\n",
    "2. __Andrew Ng's__ [Deep Learning Specialization](https://www.coursera.org/specializations/deep-learning)\n",
    "3. __Andrew Ng's__ [Tensorflow in Practice Specialization](https://www.coursera.org/professional-certificates/tensorflow-in-practice)\n",
    "4. __Jose Portilla__[Machine Learning A-Z](https://www.udemy.com/course/machinelearning)\n",
    "5. __Jose Portilla__[Natural Language Processing with Python](https://www.udemy.com/course/nlp-natural-language-processing-with-python/)\n",
    "6. University of Michigan [Applied Data Science with Python Specialization](https://www.coursera.org/specializations/data-science-python)\n",
    "4. John Hopkins Uni [Data Science Specialization](https://www.coursera.org/specializations/jhu-data-science)\n",
    "5. Uni of Washington [Machine Learning Specialization](https://www.coursera.org/specializations/machine-learning)\n",
    "6. IBM Certificate [DS Certificate](https://www.coursera.org/professional-certificates/ibm-data-science) / super basic\n",
    "7. edX Course [The Analytics Edge](https://www.edx.org/course/the-analytics-edge)\n",
    "8. Udemy TensorFlow [Complete Guide on TensorFlow](https://www.udemy.com/course/tensorflow-2/)\n",
    "9. Jose Portilla [Spark and Python for Big Data with PySpark](https://www.udemy.com/course/spark-and-python-for-big-data-with-pyspark/)"
   ]
  },
  {
   "cell_type": "markdown",
   "metadata": {},
   "source": [
    "## Books\n",
    "\n",
    "__Overall ML__: [Hands-on Machine Learning with Scikit-Learn and Tensorflow](https://www.amazon.com/Hands-Machine-Learning-Scikit-Learn-TensorFlow/dp/1491962291) / ML bible\n",
    "\n",
    "__Overall Python__: [Python for Data Analysis](https://www.oreilly.com/library/view/python-for-data/9781491957653/)\n",
    "\n",
    "\n",
    "1. [A Primer on SQL](https://leanpub.com/aprimeronsql/) \n",
    "2. [__SQL Cookbook__](https://www.amazon.com/SQL-Cookbook-Solutions-Techniques-Developers-ebook/dp/B0026OR3KI) / sql!\n",
    "3. [Bash Manual](https://www.gnu.org/software/bash/manual/bash.html#Pipelines)\n",
    "4. [All of Statistics](https://www.springer.com/us/book/9780387402727) / statistics bible\n",
    "5. [Applied Predictive Modeling](http://appliedpredictivemodeling.com/) / great practical modeling in R (requires good statistics)\n",
    "6. [The Signal and the Noise](https://www.penguinrandomhouse.com/books/305826/the-signal-and-the-noise-by-nate-silver/) /  good starting point for people interested in using data effectively\n",
    "7. [Deep Learning Book](http://www.deeplearningbook.org/) / MiT press book with lectures on DL\n",
    "8. [Storytelling with Data: A Data Visualization Guide for Business Professionals](https://www.amazon.com/dp/1119002257) / how to tell a story with data - visualization guidelines\n",
    "9. [The Visual Display of Quantitative Information](https://www.amazon.com/dp/0961392142) / classic book on statistical graphics, charts, tables\n",
    "10. [Python Machine Learning](https://www.amazon.com/dp/B00YSILNL0)\n",
    "11. [__The Elements of Statistical Learning__](https://www.amazon.com/Elements-Statistical-Learning-Prediction-Statistics/dp/0387848576) / for beginners\n",
    "12. [The Clean Coder](https://www.amazon.com/dp/0137081073) / programming guidelines\n",
    "13. [Guerrilla Analytics: A Practical Approach to Working with Data](https://www.amazon.com/dp/0128002182) / for expirienced Data Scientists"
   ]
  },
  {
   "cell_type": "markdown",
   "metadata": {},
   "source": [
    "## Various Resources\n",
    "\n",
    "#### Data Science dedicated training sites\n",
    "\n",
    "1. [Metis](https://www.thisismetis.com/) / all around DS\n",
    "2. [Datacamp](https://www.datacamp.com/) / all around DS and ML\n",
    "3. [365 DataScience](https://365datascience.com/) / all around DS and ML\n",
    "4. [Google dev crash course on ML](https://developers.google.com/machine-learning/crash-course) / crash course on ML\n",
    "5. [BRILLIANT](https://brilliant.org/) / quantitative math skills\n",
    "6. [Pluralsight](https://www.pluralsight.com/) / DS, ML and more\n",
    "7. [__Dezyre__](https://www.dezyre.com/projects) / Solved end-to-end Data Science & Big Data projects\n",
    "8. [Corey Schafer YouTube](https://www.youtube.com/c/Coreyms/playlists) / Python + Git + SQL + Linux\n",
    "9. [Data Quest](https://www.dataquest.io/) / all around DS and ML\n",
    "10. [Amazon](https://aws.amazon.com/training/learning-paths/machine-learning/) / Amazon ML trainings and certificates\n",
    "11. [DeepLearning.ai](https://www.deeplearning.ai/) / advanced specializations in ML: NLP, Deeplearning, Tensroflow\n",
    "\n",
    "\n",
    "#### MOOC's (massive open online courses):\n",
    "\n",
    "1. [Coursera](https://www.coursera.org/)\n",
    "2. [Udemy](https://www.udemy.com/)\n",
    "3. [Khan Academy](https://en.khanacademy.org/)\n",
    "4. [edX](https://www.edx.org/)\n",
    "5. [MiT](https://ocw.mit.edu/courses/)\n",
    "6. [Udacity](https://www.udacity.com/)\n",
    "7. [Harvard](https://online-learning.harvard.edu/)\n"
   ]
  }
 ],
 "metadata": {
  "kernelspec": {
   "display_name": "Python 3",
   "language": "python",
   "name": "python3"
  },
  "language_info": {
   "codemirror_mode": {
    "name": "ipython",
    "version": 3
   },
   "file_extension": ".py",
   "mimetype": "text/x-python",
   "name": "python",
   "nbconvert_exporter": "python",
   "pygments_lexer": "ipython3",
   "version": "3.7.3"
  }
 },
 "nbformat": 4,
 "nbformat_minor": 2
}
